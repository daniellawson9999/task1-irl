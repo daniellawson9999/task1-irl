{
 "cells": [
  {
   "cell_type": "code",
   "execution_count": 2,
   "metadata": {},
   "outputs": [],
   "source": [
    "import numpy as np\n",
    "from envs.grid_word_AB import GridWorld"
   ]
  },
  {
   "cell_type": "code",
   "execution_count": 3,
   "metadata": {},
   "outputs": [],
   "source": [
    "direction = 'down'\n",
    "fail_prob = 0.0"
   ]
  },
  {
   "cell_type": "code",
   "execution_count": 4,
   "metadata": {},
   "outputs": [],
   "source": [
    "import time\n",
    "import os"
   ]
  },
  {
   "cell_type": "code",
   "execution_count": 5,
   "metadata": {},
   "outputs": [],
   "source": [
    "n_games = 50\n",
    "sleep_time = 0"
   ]
  },
  {
   "cell_type": "code",
   "execution_count": 6,
   "metadata": {},
   "outputs": [],
   "source": [
    "import pickle as pkl\n",
    "# import pandas as pd\n",
    "numSlips = 7"
   ]
  },
  {
   "cell_type": "code",
   "execution_count": 7,
   "metadata": {},
   "outputs": [],
   "source": [
    "data_down = []\n",
    "data_up = []\n",
    "data_center = []\n",
    "data_down.append(np.load(open(\"data/gridworld_discrete/policy-down-games-50-slip0.npy\",\"rb\"), allow_pickle=True))\n",
    "data_down.append(np.load(open(\"data/gridworld_discrete/policy-down-games-50-slip10.npy\",\"rb\"), allow_pickle=True))\n",
    "data_down.append(np.load(open(\"data/gridworld_discrete/policy-down-games-50-slip20.npy\",\"rb\"), allow_pickle=True))\n",
    "data_down.append(np.load(open(\"data/gridworld_discrete/policy-down-games-50-slip30.npy\",\"rb\"), allow_pickle=True))\n",
    "data_down.append(np.load(open(\"data/gridworld_discrete/policy-down-games-50-slip40.npy\",\"rb\"), allow_pickle=True))\n",
    "data_down.append(np.load(open(\"data/gridworld_discrete/policy-down-games-50-slip50.npy\",\"rb\"), allow_pickle=True))\n",
    "data_down.append(np.load(open(\"data/gridworld_discrete/policy-down-games-50-slip60.npy\",\"rb\"), allow_pickle=True))\n",
    "data_down.append(np.load(open(\"data/gridworld_discrete/policy-down-games-50-slip70.npy\",\"rb\"), allow_pickle=True))\n",
    "data_down.append(np.load(open(\"data/gridworld_discrete/policy-down-games-50-slip80.npy\",\"rb\"), allow_pickle=True))\n",
    "\n",
    "data_up.append(np.load(open(\"data/gridworld_discrete/policy-up-games-50-slip0.npy\",\"rb\"), allow_pickle=True))\n",
    "data_up.append(np.load(open(\"data/gridworld_discrete/policy-up-games-50-slip10.npy\",\"rb\"), allow_pickle=True))\n",
    "data_up.append(np.load(open(\"data/gridworld_discrete/policy-up-games-50-slip20.npy\",\"rb\"), allow_pickle=True))\n",
    "data_up.append(np.load(open(\"data/gridworld_discrete/policy-up-games-50-slip30.npy\",\"rb\"), allow_pickle=True))\n",
    "data_up.append(np.load(open(\"data/gridworld_discrete/policy-up-games-50-slip40.npy\",\"rb\"), allow_pickle=True))\n",
    "data_up.append(np.load(open(\"data/gridworld_discrete/policy-up-games-50-slip50.npy\",\"rb\"), allow_pickle=True))\n",
    "data_up.append(np.load(open(\"data/gridworld_discrete/policy-up-games-50-slip60.npy\",\"rb\"), allow_pickle=True))\n",
    "data_up.append(np.load(open(\"data/gridworld_discrete/policy-up-games-50-slip70.npy\",\"rb\"), allow_pickle=True))\n",
    "data_up.append(np.load(open(\"data/gridworld_discrete/policy-up-games-50-slip80.npy\",\"rb\"), allow_pickle=True))\n",
    "\n",
    "data_center.append(np.load(open(\"data/gridworld_discrete/policy-center-games-50-slip0.npy\",\"rb\"), allow_pickle=True))\n",
    "data_center.append(np.load(open(\"data/gridworld_discrete/policy-center-games-50-slip10.npy\",\"rb\"), allow_pickle=True))\n",
    "data_center.append(np.load(open(\"data/gridworld_discrete/policy-center-games-50-slip20.npy\",\"rb\"), allow_pickle=True))\n",
    "data_center.append(np.load(open(\"data/gridworld_discrete/policy-center-games-50-slip30.npy\",\"rb\"), allow_pickle=True))\n",
    "data_center.append(np.load(open(\"data/gridworld_discrete/policy-center-games-50-slip40.npy\",\"rb\"), allow_pickle=True))\n",
    "data_center.append(np.load(open(\"data/gridworld_discrete/policy-center-games-50-slip50.npy\",\"rb\"), allow_pickle=True))\n",
    "data_center.append(np.load(open(\"data/gridworld_discrete/policy-center-games-50-slip60.npy\",\"rb\"), allow_pickle=True))\n",
    "summarized_down_data = []\n",
    "summarized_up_data = []\n",
    "summarized_center_data = []"
   ]
  },
  {
   "cell_type": "code",
   "execution_count": 17,
   "metadata": {},
   "outputs": [
    {
     "name": "stdout",
     "output_type": "stream",
     "text": [
      "<class 'numpy.ndarray'> [5 0] state\n",
      "<class 'numpy.int64'> 2 state\n",
      "<class 'numpy.ndarray'> [6 0] state\n",
      "<class 'numpy.int64'> 2 state\n",
      "<class 'numpy.ndarray'> [7 0] state\n",
      "<class 'numpy.int64'> 2 state\n",
      "<class 'numpy.ndarray'> [8 0] state\n",
      "<class 'numpy.int64'> 2 state\n",
      "<class 'numpy.ndarray'> [9 0] state\n",
      "<class 'numpy.int64'> 2 state\n",
      "<class 'numpy.ndarray'> [10  0] state\n",
      "<class 'numpy.int64'> 1 state\n",
      "<class 'numpy.ndarray'> [10  1] state\n",
      "<class 'numpy.int64'> 1 state\n",
      "<class 'numpy.ndarray'> [10  2] state\n",
      "<class 'numpy.int64'> 1 state\n",
      "<class 'numpy.ndarray'> [10  3] state\n",
      "<class 'numpy.int64'> 1 state\n",
      "<class 'numpy.ndarray'> [10  4] state\n",
      "<class 'numpy.int64'> 0 state\n",
      "<class 'numpy.ndarray'> [9 4] state\n",
      "<class 'numpy.int64'> 0 state\n",
      "<class 'numpy.ndarray'> [8 4] state\n",
      "<class 'numpy.int64'> 0 state\n",
      "<class 'numpy.ndarray'> [7 4] state\n",
      "<class 'numpy.int64'> 0 state\n",
      "<class 'numpy.ndarray'> [6 4] state\n",
      "<class 'numpy.int64'> 0 state\n",
      "<class 'numpy.ndarray'> [5 4] state\n",
      "<class 'numpy.int64'> 0 state\n",
      "<class 'list'> [array([5, 0]), 2] state\n"
     ]
    },
    {
     "name": "stderr",
     "output_type": "stream",
     "text": [
      "C:\\Users\\gmcco\\AppData\\Local\\Temp/ipykernel_25964/796612001.py:6: VisibleDeprecationWarning: Creating an ndarray from ragged nested sequences (which is a list-or-tuple of lists-or-tuples-or ndarrays with different lengths or shapes) is deprecated. If you meant to do this, you must specify 'dtype=object' when creating the ndarray.\n",
      "  state_avg += state\n"
     ]
    },
    {
     "ename": "TypeError",
     "evalue": "ufunc 'add' output (typecode 'O') could not be coerced to provided output parameter (typecode 'd') according to the casting rule ''same_kind''",
     "output_type": "error",
     "traceback": [
      "\u001b[1;31m---------------------------------------------------------------------------\u001b[0m",
      "\u001b[1;31mTypeError\u001b[0m                                 Traceback (most recent call last)",
      "\u001b[1;32m~\\AppData\\Local\\Temp/ipykernel_25964/796612001.py\u001b[0m in \u001b[0;36m<module>\u001b[1;34m\u001b[0m\n\u001b[0;32m      4\u001b[0m     \u001b[1;32mfor\u001b[0m \u001b[0mstate\u001b[0m \u001b[1;32min\u001b[0m \u001b[0mgame\u001b[0m\u001b[1;33m:\u001b[0m\u001b[1;33m\u001b[0m\u001b[1;33m\u001b[0m\u001b[0m\n\u001b[0;32m      5\u001b[0m       \u001b[0mprint\u001b[0m\u001b[1;33m(\u001b[0m\u001b[0mtype\u001b[0m\u001b[1;33m(\u001b[0m\u001b[0mstate\u001b[0m\u001b[1;33m)\u001b[0m\u001b[1;33m,\u001b[0m \u001b[0mstate\u001b[0m\u001b[1;33m,\u001b[0m \u001b[1;34m\"state\"\u001b[0m\u001b[1;33m)\u001b[0m\u001b[1;33m\u001b[0m\u001b[1;33m\u001b[0m\u001b[0m\n\u001b[1;32m----> 6\u001b[1;33m       \u001b[0mstate_avg\u001b[0m \u001b[1;33m+=\u001b[0m \u001b[0mstate\u001b[0m\u001b[1;33m\u001b[0m\u001b[1;33m\u001b[0m\u001b[0m\n\u001b[0m\u001b[0;32m      7\u001b[0m     \u001b[0mstate_avg\u001b[0m \u001b[1;33m/=\u001b[0m \u001b[0mlen\u001b[0m\u001b[1;33m(\u001b[0m\u001b[0mgame\u001b[0m\u001b[1;33m)\u001b[0m\u001b[1;33m\u001b[0m\u001b[1;33m\u001b[0m\u001b[0m\n\u001b[0;32m      8\u001b[0m     \u001b[0msummarized_down_data\u001b[0m\u001b[1;33m.\u001b[0m\u001b[0mappend\u001b[0m\u001b[1;33m(\u001b[0m\u001b[0mstate_avg\u001b[0m\u001b[1;33m)\u001b[0m\u001b[1;33m\u001b[0m\u001b[1;33m\u001b[0m\u001b[0m\n",
      "\u001b[1;31mTypeError\u001b[0m: ufunc 'add' output (typecode 'O') could not be coerced to provided output parameter (typecode 'd') according to the casting rule ''same_kind''"
     ]
    }
   ],
   "source": [
    "for slipprob in data_down:\n",
    "  for game in slipprob:\n",
    "    state_avg = np.zeros(2)\n",
    "    for state in game:\n",
    "      print(type(state), state, \"state\")\n",
    "      state_avg += state\n",
    "    state_avg /= len(game)\n",
    "    summarized_down_data.append(state_avg)\n",
    "for slipprob in data_center:\n",
    "  for game in slipprob:\n",
    "    state_avg = np.zeros(2)\n",
    "    for state in game:\n",
    "      state_avg += state\n",
    "    state_avg /= len(game)\n",
    "    summarized_center_data.append(state_avg)\n",
    "for slipprob in data_up:\n",
    "  for game in slipprob:\n",
    "    state_avg = np.zeros(2)\n",
    "    for state in game:\n",
    "      state_avg += state\n",
    "    state_avg /= len(game)\n",
    "    summarized_up_data.append(state_avg)"
   ]
  },
  {
   "cell_type": "code",
   "execution_count": null,
   "metadata": {},
   "outputs": [],
   "source": [
    "for i in range(numSlips):\n",
    "    summarized_down_data[i] = np.array(summarized_down_data[i])\n",
    "    summarized_up_data[i] = np.array(summarized_up_data[i])\n",
    "    summarized_center_data[i] = np.array(summarized_center_data[i])\n",
    "summarized_down_data = np.array(summarized_down_data)\n",
    "summarized_up_data = np.array(summarized_up_data)\n",
    "summarized_center_data = np.array(summarized_center_data)"
   ]
  },
  {
   "cell_type": "code",
   "execution_count": null,
   "metadata": {},
   "outputs": [],
   "source": [
    "from sklearn.cluster import KMeans"
   ]
  },
  {
   "cell_type": "code",
   "execution_count": null,
   "metadata": {},
   "outputs": [],
   "source": [
    "combined_data = []\n",
    "for i in range(numSlips):\n",
    "    combined_data[i] = np.vstack([summarized_center_data[i], summarized_down_data[i], summarized_up_data[i]])"
   ]
  },
  {
   "cell_type": "code",
   "execution_count": null,
   "metadata": {},
   "outputs": [],
   "source": [
    "kmeans = []\n",
    "for i in range(numSlips):\n",
    "    kmeans[i] = KMeans(n_clusters=3).fit(combined_data[i])"
   ]
  },
  {
   "cell_type": "code",
   "execution_count": null,
   "metadata": {},
   "outputs": [],
   "source": [
    "kmeans.cluster_centers_"
   ]
  },
  {
   "cell_type": "code",
   "execution_count": null,
   "metadata": {},
   "outputs": [],
   "source": [
    "import matplotlib\n",
    "from matplotlib import pyplot as plt"
   ]
  },
  {
   "cell_type": "code",
   "execution_count": null,
   "metadata": {},
   "outputs": [],
   "source": [
    "for i in range(numSlips):\n",
    "    plt.scatter(summarized_center_data[i][:,0], summarized_center_data[i][:,1], c='r')\n",
    "    plt.scatter(summarized_down_data[i][:,0], summarized_down_data[i][:,1],  c='b')\n",
    "    plt.scatter(summarized_up_data[i][:,0], summarized_up_data[i][:,1],  c='g')\n",
    "    plt.scatter(kmeans.cluster_centers_[:, 0], kmeans.cluster_centers_[:, 1], c='y')\n",
    "    plt.xlabel('average row position in game')\n",
    "    plt.ylabel('average column position in game')\n",
    "    plt.title('Games: 50 Slip:' + (i * 10))"
   ]
  }
 ],
 "metadata": {
  "interpreter": {
   "hash": "f3e49057585c7039f1f5445b5d4b71e49fed386ad610c1f22cf23a5fb0e2d79c"
  },
  "kernelspec": {
   "display_name": "Python 3.9.5 64-bit ('base': conda)",
   "language": "python",
   "name": "python3"
  },
  "language_info": {
   "codemirror_mode": {
    "name": "ipython",
    "version": 3
   },
   "file_extension": ".py",
   "mimetype": "text/x-python",
   "name": "python",
   "nbconvert_exporter": "python",
   "pygments_lexer": "ipython3",
   "version": "3.9.5"
  },
  "orig_nbformat": 4
 },
 "nbformat": 4,
 "nbformat_minor": 2
}
