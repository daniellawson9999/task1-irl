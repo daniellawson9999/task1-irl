{
 "cells": [
  {
   "cell_type": "code",
   "execution_count": 36,
   "metadata": {},
   "outputs": [],
   "source": [
    "import numpy as np\n",
    "from envs.grid_word_AB import GridWorld"
   ]
  },
  {
   "cell_type": "code",
   "execution_count": 37,
   "metadata": {},
   "outputs": [],
   "source": [
    "env = GridWorld(shape=(5,5), direction='down', rew_weights=[1,20,1], fail_prob=0.1)"
   ]
  },
  {
   "cell_type": "code",
   "execution_count": 38,
   "metadata": {},
   "outputs": [
    {
     "data": {
      "text/plain": [
       "(11, 5)"
      ]
     },
     "execution_count": 38,
     "metadata": {},
     "output_type": "execute_result"
    }
   ],
   "source": [
    "env.H, env.W"
   ]
  },
  {
   "cell_type": "code",
   "execution_count": 39,
   "metadata": {},
   "outputs": [
    {
     "name": "stdout",
     "output_type": "stream",
     "text": [
      "(0, 2) (4, 2)\n",
      "2 46\n"
     ]
    }
   ],
   "source": [
    "print(env.start, env.goal)\n",
    "print(env.init_state,env.goal_state)"
   ]
  },
  {
   "cell_type": "code",
   "execution_count": 40,
   "metadata": {},
   "outputs": [
    {
     "data": {
      "text/plain": [
       "array([0., 0., 1., 0., 0., 0., 0., 0., 0., 0., 0., 0., 0., 0., 0., 0., 0.,\n",
       "       0., 0., 0., 0., 0., 0., 0., 0., 0., 0., 0., 0., 0., 0., 0., 0., 0.,\n",
       "       0., 0., 0., 0., 0., 0., 0., 0., 0., 0., 0., 0., 0., 0., 0., 0., 0.,\n",
       "       0., 0., 0., 0.])"
      ]
     },
     "execution_count": 40,
     "metadata": {},
     "output_type": "execute_result"
    }
   ],
   "source": [
    "env.mu"
   ]
  },
  {
   "cell_type": "code",
   "execution_count": 41,
   "metadata": {},
   "outputs": [
    {
     "data": {
      "text/plain": [
       "46"
      ]
     },
     "execution_count": 41,
     "metadata": {},
     "output_type": "execute_result"
    }
   ],
   "source": [
    "env.goal_state"
   ]
  },
  {
   "cell_type": "code",
   "execution_count": 42,
   "metadata": {},
   "outputs": [],
   "source": [
    "env_mdp = env.get_mdp()"
   ]
  },
  {
   "cell_type": "code",
   "execution_count": 43,
   "metadata": {},
   "outputs": [],
   "source": [
    "pi,V = env_mdp.value_iteration(max_iter=1000)"
   ]
  },
  {
   "cell_type": "code",
   "execution_count": 44,
   "metadata": {},
   "outputs": [
    {
     "name": "stdout",
     "output_type": "stream",
     "text": [
      "+----------------+----------------+---------------+---------------+--------------+\n",
      "|    Field 1     |    Field 2     |    Field 3    |    Field 4    |   Field 5    |\n",
      "+----------------+----------------+---------------+---------------+--------------+\n",
      "| RIGHT:-1554.25 | RIGHT:-1007.22 | RIGHT:-674.25 |  DOWN:-584.29 | DOWN:-530.93 |\n",
      "| RIGHT:-1533.32 | RIGHT:-964.80  | RIGHT:-608.96 |  DOWN:-495.22 | DOWN:-383.50 |\n",
      "| RIGHT:-1490.35 | RIGHT:-899.91  | RIGHT:-520.80 | RIGHT:-383.51 | DOWN:-249.09 |\n",
      "| RIGHT:-1411.12 | RIGHT:-816.89  | RIGHT:-414.57 | RIGHT:-252.69 | DOWN:-133.71 |\n",
      "|  DOWN:-595.87  | RIGHT:-728.97  | RIGHT:-325.86 | RIGHT:-141.07 | DOWN:-38.75  |\n",
      "|  DOWN:-476.36  |  LEFT:-549.73  | RIGHT:-257.24 |  RIGHT:-51.36 | DOWN:-22.07  |\n",
      "|  DOWN:-394.59  |  LEFT:-471.58  | RIGHT:-264.37 |  RIGHT:-40.90 | DOWN:-12.42  |\n",
      "|  DOWN:-331.98  |  LEFT:-413.53  | RIGHT:-278.00 |  RIGHT:-35.05 |  DOWN:-5.46  |\n",
      "|  DOWN:-267.47  |  LEFT:-351.07  | RIGHT:-287.59 |  RIGHT:-29.75 |   UP:0.00    |\n",
      "|  DOWN:-200.54  |  DOWN:-164.94  |  DOWN:-112.12 |  RIGHT:-27.88 |   UP:-6.19   |\n",
      "| RIGHT:-134.43  |  RIGHT:-95.01  |  RIGHT:-48.08 |  RIGHT:-18.30 |   UP:-7.86   |\n",
      "+----------------+----------------+---------------+---------------+--------------+\n"
     ]
    }
   ],
   "source": [
    "env.render_pi_v(pi,V)"
   ]
  },
  {
   "cell_type": "code",
   "execution_count": 45,
   "metadata": {},
   "outputs": [
    {
     "data": {
      "text/plain": [
       "array([1, 2, 2, 2, 2, 2, 2, 1, 1, 1, 1, 1, 2, 3, 3, 3, 3, 1, 1, 1, 1, 1,\n",
       "       1, 2, 1, 1, 1, 1, 1, 1, 1, 1, 1, 1, 1, 1, 1, 1, 1, 1, 1, 1, 2, 2,\n",
       "       0, 0, 0, 2, 2, 2, 2, 2, 2, 2, 2])"
      ]
     },
     "execution_count": 45,
     "metadata": {},
     "output_type": "execute_result"
    }
   ],
   "source": [
    "pi"
   ]
  },
  {
   "cell_type": "code",
   "execution_count": 46,
   "metadata": {},
   "outputs": [],
   "source": [
    "import time"
   ]
  },
  {
   "cell_type": "code",
   "execution_count": 47,
   "metadata": {},
   "outputs": [
    {
     "name": "stdout",
     "output_type": "stream",
     "text": [
      "2 0 2\n",
      "1 0 1\n",
      "0 0 0\n",
      "11 1 0\n",
      "22 2 0\n",
      "33 3 0\n",
      "44 4 0\n",
      "44 4 0\n",
      "45 4 1\n",
      "46 4 2\n"
     ]
    }
   ],
   "source": [
    "state = env.reset()\n",
    "env._render()\n",
    "done = False\n",
    "while not done:\n",
    "    time.sleep(.25)\n",
    "    action = pi[state]\n",
    "    state, reward, done, _ = env.step(action)\n",
    "    env._render()"
   ]
  }
 ],
 "metadata": {
  "interpreter": {
   "hash": "c5ac3af0524c65071035b87bbcb2adecf28ed6d650d30c0e1ddc7303674a8c0d"
  },
  "kernelspec": {
   "display_name": "Python 3.6.12 64-bit ('irl-env': conda)",
   "name": "python3"
  },
  "language_info": {
   "codemirror_mode": {
    "name": "ipython",
    "version": 3
   },
   "file_extension": ".py",
   "mimetype": "text/x-python",
   "name": "python",
   "nbconvert_exporter": "python",
   "pygments_lexer": "ipython3",
   "version": "3.6.12"
  },
  "orig_nbformat": 4
 },
 "nbformat": 4,
 "nbformat_minor": 2
}
