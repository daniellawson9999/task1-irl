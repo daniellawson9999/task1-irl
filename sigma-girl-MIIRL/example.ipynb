{
 "cells": [
  {
   "cell_type": "code",
   "execution_count": 1,
   "metadata": {},
   "outputs": [],
   "source": [
    "import numpy as np\n",
    "from envs import grid_word_AB"
   ]
  },
  {
   "cell_type": "code",
   "execution_count": null,
   "metadata": {},
   "outputs": [],
   "source": [
    "grid_word_AB(size=5,goal=(4,2), start=(0,2), direction='up', weights=[1,20,1])"
   ]
  }
 ],
 "metadata": {
  "interpreter": {
   "hash": "c5ac3af0524c65071035b87bbcb2adecf28ed6d650d30c0e1ddc7303674a8c0d"
  },
  "kernelspec": {
   "display_name": "Python 3.6.12 64-bit ('irl-env': conda)",
   "name": "python3"
  },
  "language_info": {
   "codemirror_mode": {
    "name": "ipython",
    "version": 3
   },
   "file_extension": ".py",
   "mimetype": "text/x-python",
   "name": "python",
   "nbconvert_exporter": "python",
   "pygments_lexer": "ipython3",
   "version": "3.6.12"
  },
  "orig_nbformat": 4
 },
 "nbformat": 4,
 "nbformat_minor": 2
}
