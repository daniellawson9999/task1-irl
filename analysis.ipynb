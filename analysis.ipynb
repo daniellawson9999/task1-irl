{
 "metadata": {
  "language_info": {
   "codemirror_mode": {
    "name": "ipython",
    "version": 3
   },
   "file_extension": ".py",
   "mimetype": "text/x-python",
   "name": "python",
   "nbconvert_exporter": "python",
   "pygments_lexer": "ipython3",
   "version": "3.6.12"
  },
  "orig_nbformat": 2,
  "kernelspec": {
   "name": "python3",
   "display_name": "Python 3.6.12 64-bit ('env': venv)"
  },
  "interpreter": {
   "hash": "8f0edac20d9fede04d1f17672f28dc1ede72a90cc56e5df86fb553f8238baa10"
  }
 },
 "nbformat": 4,
 "nbformat_minor": 2,
 "cells": [
  {
   "cell_type": "code",
   "execution_count": 487,
   "source": [
    "import numpy as np\n",
    "import pickle\n",
    "import json\n",
    "from scipy import sparse\n",
    "import os\n",
    "import matplotlib.pyplot as plt"
   ],
   "outputs": [],
   "metadata": {}
  },
  {
   "cell_type": "code",
   "execution_count": 488,
   "source": [
    "clustering_results_path = './sigma-girl-MIIRL/data_starcraft/results_all.pkl'\n",
    "clustering_results = pickle.load(open(clustering_results_path, \"rb\"))"
   ],
   "outputs": [],
   "metadata": {}
  },
  {
   "cell_type": "code",
   "execution_count": 489,
   "source": [
    "clustering_results[0][1]"
   ],
   "outputs": [
    {
     "output_type": "execute_result",
     "data": {
      "text/plain": [
       "array([[5.15978039e-01, 1.11022302e-16, 4.84021961e-01],\n",
       "       [5.43116015e-01, 2.18262984e-01, 2.38621001e-01],\n",
       "       [5.63848363e-01, 3.63120590e-01, 7.30310473e-02]])"
      ]
     },
     "metadata": {},
     "execution_count": 489
    }
   ],
   "metadata": {}
  },
  {
   "cell_type": "code",
   "execution_count": 490,
   "source": [
    "actions = pickle.load(open('./MSC/exported_replays/actions_TerranVsTerran_100_150_3.pkl', 'rb'))\n",
    "states = pickle.load(open('./MSC/exported_replays/states_TerranVsTerran_100_150_[16:26].pkl', 'rb'))\n",
    "rewards = pickle.load(open('./MSC/exported_replays/rewards_old_TerranVsTerran_100_150_[ 20  21 -22].pkl', 'rb'))"
   ],
   "outputs": [],
   "metadata": {}
  },
  {
   "cell_type": "code",
   "execution_count": 491,
   "source": [
    "macro_action_space = ['Build', 'TrainWorker', 'TrainArmy', 'None']\n",
    "\n",
    "terran_stat = json.load(open('./MSC/parsed_replays/Stat/Terran.json'))\n",
    "id_reversed = {value: key for (key, value) in terran_stat['action_id'].items()}"
   ],
   "outputs": [],
   "metadata": {}
  },
  {
   "cell_type": "code",
   "execution_count": 492,
   "source": [
    "dir_path = './MSC/parsed_replays/GlobalFeatureVector/Terran_vs_Terran/Terran'\n",
    "num_replays = 100\n",
    "paths = os.listdir(dir_path)\n",
    "raw_data = {}\n",
    "for i in range(num_replays):\n",
    "    index = str(i)\n",
    "    data = np.asarray(sparse.load_npz(os.path.join(dir_path,paths[i])).todense())\n",
    "    raw_data[index] = data"
   ],
   "outputs": [],
   "metadata": {}
  },
  {
   "cell_type": "code",
   "execution_count": 493,
   "source": [
    "dir_path = './MSC/parsed_replays/GlobalFeatureVector/Terran_vs_Terran/Terran'\n",
    "paths = os.listdir(dir_path)\n",
    "\n",
    "index = str(0)\n",
    "data = np.asarray(sparse.load_npz(os.path.join(dir_path,paths[i])).todense())\n",
    "data[151][16]\n"
   ],
   "outputs": [
    {
     "output_type": "execute_result",
     "data": {
      "text/plain": [
       "0.0009014829394353576"
      ]
     },
     "metadata": {},
     "execution_count": 493
    }
   ],
   "metadata": {}
  },
  {
   "cell_type": "code",
   "execution_count": 494,
   "source": [
    "num_clusters =  len(clustering_results[0][0])\n",
    "num_clusters\n",
    "cluster_names = [\"cluster \" + str(i) for i in range(num_clusters)]"
   ],
   "outputs": [],
   "metadata": {}
  },
  {
   "cell_type": "code",
   "execution_count": 495,
   "source": [
    "num_clusters\n",
    "clustering_results[0]"
   ],
   "outputs": [
    {
     "output_type": "execute_result",
     "data": {
      "text/plain": [
       "(array([[0.00000000e+000, 0.00000000e+000, 0.00000000e+000,\n",
       "         0.00000000e+000, 0.00000000e+000, 0.00000000e+000,\n",
       "         0.00000000e+000, 0.00000000e+000, 0.00000000e+000,\n",
       "         0.00000000e+000, 0.00000000e+000, 1.95754701e-052,\n",
       "         0.00000000e+000, 0.00000000e+000, 0.00000000e+000,\n",
       "         0.00000000e+000, 0.00000000e+000, 0.00000000e+000,\n",
       "         0.00000000e+000, 0.00000000e+000, 0.00000000e+000,\n",
       "         0.00000000e+000, 0.00000000e+000, 0.00000000e+000,\n",
       "         0.00000000e+000, 0.00000000e+000, 0.00000000e+000,\n",
       "         0.00000000e+000, 5.25522708e-070, 3.72108757e-034,\n",
       "         0.00000000e+000, 1.37865208e-175, 0.00000000e+000,\n",
       "         0.00000000e+000, 0.00000000e+000, 1.65202899e-052,\n",
       "         0.00000000e+000, 3.98855296e-073, 0.00000000e+000,\n",
       "         7.84212224e-259, 0.00000000e+000, 0.00000000e+000,\n",
       "         0.00000000e+000, 6.62071232e-006, 0.00000000e+000,\n",
       "         0.00000000e+000, 0.00000000e+000, 0.00000000e+000,\n",
       "         0.00000000e+000, 0.00000000e+000, 0.00000000e+000,\n",
       "         0.00000000e+000, 0.00000000e+000, 0.00000000e+000,\n",
       "         0.00000000e+000, 0.00000000e+000, 0.00000000e+000,\n",
       "         0.00000000e+000, 0.00000000e+000, 4.53339747e-113,\n",
       "         0.00000000e+000, 0.00000000e+000, 0.00000000e+000,\n",
       "         0.00000000e+000, 0.00000000e+000, 0.00000000e+000,\n",
       "         0.00000000e+000, 0.00000000e+000, 0.00000000e+000,\n",
       "         0.00000000e+000, 0.00000000e+000, 0.00000000e+000,\n",
       "         7.62478846e-265, 0.00000000e+000, 0.00000000e+000,\n",
       "         0.00000000e+000, 0.00000000e+000, 0.00000000e+000,\n",
       "         1.37136669e-085, 0.00000000e+000, 0.00000000e+000,\n",
       "         0.00000000e+000, 0.00000000e+000, 0.00000000e+000,\n",
       "         0.00000000e+000, 6.01625869e-137, 0.00000000e+000,\n",
       "         0.00000000e+000, 0.00000000e+000, 0.00000000e+000,\n",
       "         0.00000000e+000, 0.00000000e+000, 0.00000000e+000,\n",
       "         0.00000000e+000, 0.00000000e+000, 0.00000000e+000,\n",
       "         0.00000000e+000, 0.00000000e+000, 0.00000000e+000,\n",
       "         0.00000000e+000],\n",
       "        [1.00000000e+000, 1.00000000e+000, 1.00000000e+000,\n",
       "         1.00000000e+000, 1.00000000e+000, 1.00000000e+000,\n",
       "         1.00000000e+000, 1.00000000e+000, 1.00000000e+000,\n",
       "         1.00000000e+000, 1.00000000e+000, 1.00000000e+000,\n",
       "         1.00000000e+000, 1.00000000e+000, 1.00000000e+000,\n",
       "         1.00000000e+000, 1.00000000e+000, 1.00000000e+000,\n",
       "         1.00000000e+000, 1.00000000e+000, 1.00000000e+000,\n",
       "         1.00000000e+000, 1.00000000e+000, 1.00000000e+000,\n",
       "         1.00000000e+000, 1.00000000e+000, 1.00000000e+000,\n",
       "         1.00000000e+000, 1.00000000e+000, 1.00000000e+000,\n",
       "         1.00000000e+000, 1.00000000e+000, 1.00000000e+000,\n",
       "         1.00000000e+000, 1.00000000e+000, 1.00000000e+000,\n",
       "         1.00000000e+000, 1.00000000e+000, 1.00000000e+000,\n",
       "         1.00000000e+000, 1.00000000e+000, 1.00000000e+000,\n",
       "         1.00000000e+000, 9.99993379e-001, 1.00000000e+000,\n",
       "         1.00000000e+000, 1.00000000e+000, 1.00000000e+000,\n",
       "         1.00000000e+000, 1.00000000e+000, 1.00000000e+000,\n",
       "         1.00000000e+000, 1.00000000e+000, 1.00000000e+000,\n",
       "         1.00000000e+000, 1.00000000e+000, 1.00000000e+000,\n",
       "         1.00000000e+000, 1.00000000e+000, 1.00000000e+000,\n",
       "         1.00000000e+000, 1.00000000e+000, 1.00000000e+000,\n",
       "         1.00000000e+000, 1.00000000e+000, 1.00000000e+000,\n",
       "         1.00000000e+000, 1.00000000e+000, 1.00000000e+000,\n",
       "         1.00000000e+000, 1.00000000e+000, 1.00000000e+000,\n",
       "         1.00000000e+000, 1.00000000e+000, 1.00000000e+000,\n",
       "         1.00000000e+000, 1.00000000e+000, 1.00000000e+000,\n",
       "         1.00000000e+000, 1.00000000e+000, 1.00000000e+000,\n",
       "         1.00000000e+000, 1.00000000e+000, 1.00000000e+000,\n",
       "         1.00000000e+000, 1.00000000e+000, 1.00000000e+000,\n",
       "         1.00000000e+000, 1.00000000e+000, 1.00000000e+000,\n",
       "         1.00000000e+000, 1.00000000e+000, 1.00000000e+000,\n",
       "         1.00000000e+000, 1.00000000e+000, 1.00000000e+000,\n",
       "         1.00000000e+000, 1.00000000e+000, 1.00000000e+000,\n",
       "         1.00000000e+000],\n",
       "        [0.00000000e+000, 0.00000000e+000, 0.00000000e+000,\n",
       "         0.00000000e+000, 0.00000000e+000, 0.00000000e+000,\n",
       "         0.00000000e+000, 0.00000000e+000, 0.00000000e+000,\n",
       "         0.00000000e+000, 0.00000000e+000, 3.34401251e-114,\n",
       "         0.00000000e+000, 0.00000000e+000, 0.00000000e+000,\n",
       "         0.00000000e+000, 0.00000000e+000, 0.00000000e+000,\n",
       "         0.00000000e+000, 0.00000000e+000, 0.00000000e+000,\n",
       "         0.00000000e+000, 0.00000000e+000, 0.00000000e+000,\n",
       "         0.00000000e+000, 0.00000000e+000, 0.00000000e+000,\n",
       "         0.00000000e+000, 1.76696480e-285, 5.99862395e-085,\n",
       "         0.00000000e+000, 0.00000000e+000, 0.00000000e+000,\n",
       "         0.00000000e+000, 0.00000000e+000, 1.66457741e-110,\n",
       "         0.00000000e+000, 3.95804535e-152, 0.00000000e+000,\n",
       "         0.00000000e+000, 0.00000000e+000, 0.00000000e+000,\n",
       "         0.00000000e+000, 1.90747367e-012, 0.00000000e+000,\n",
       "         0.00000000e+000, 0.00000000e+000, 0.00000000e+000,\n",
       "         0.00000000e+000, 0.00000000e+000, 0.00000000e+000,\n",
       "         0.00000000e+000, 0.00000000e+000, 0.00000000e+000,\n",
       "         0.00000000e+000, 0.00000000e+000, 0.00000000e+000,\n",
       "         0.00000000e+000, 0.00000000e+000, 1.63186878e-261,\n",
       "         0.00000000e+000, 0.00000000e+000, 0.00000000e+000,\n",
       "         0.00000000e+000, 0.00000000e+000, 0.00000000e+000,\n",
       "         0.00000000e+000, 0.00000000e+000, 0.00000000e+000,\n",
       "         0.00000000e+000, 0.00000000e+000, 0.00000000e+000,\n",
       "         0.00000000e+000, 0.00000000e+000, 0.00000000e+000,\n",
       "         0.00000000e+000, 0.00000000e+000, 0.00000000e+000,\n",
       "         2.73384174e-203, 0.00000000e+000, 0.00000000e+000,\n",
       "         0.00000000e+000, 0.00000000e+000, 0.00000000e+000,\n",
       "         0.00000000e+000, 7.90168882e-302, 0.00000000e+000,\n",
       "         0.00000000e+000, 0.00000000e+000, 0.00000000e+000,\n",
       "         0.00000000e+000, 0.00000000e+000, 0.00000000e+000,\n",
       "         0.00000000e+000, 0.00000000e+000, 0.00000000e+000,\n",
       "         0.00000000e+000, 0.00000000e+000, 0.00000000e+000,\n",
       "         0.00000000e+000]]),\n",
       " array([[5.15978039e-01, 1.11022302e-16, 4.84021961e-01],\n",
       "        [5.43116015e-01, 2.18262984e-01, 2.38621001e-01],\n",
       "        [5.63848363e-01, 3.63120590e-01, 7.30310473e-02]]),\n",
       " 13736.983308408833)"
      ]
     },
     "metadata": {},
     "execution_count": 495
    }
   ],
   "metadata": {}
  },
  {
   "cell_type": "code",
   "execution_count": 496,
   "source": [
    "# get cluster assignments\n",
    "cluster_assignments = [0] * num_replays\n",
    "for i in range(num_replays):\n",
    "    cluster_probs = clustering_results[0][0][:, i]\n",
    "    cluster_assignments[i] = np.argmax(cluster_probs)"
   ],
   "outputs": [],
   "metadata": {}
  },
  {
   "cell_type": "code",
   "execution_count": 497,
   "source": [
    "# compute cluster win/loss distributions\n",
    "outcome_distributions = [[] for i in range(num_clusters)]\n",
    "overall_distribution = []\n",
    "for i in range(num_replays):\n",
    "    index = str(i)\n",
    "    outcome = str(raw_data[index][0][0])\n",
    "    overall_distribution.append(outcome)\n",
    "    outcome_distributions[cluster_assignments[i]].append(outcome)"
   ],
   "outputs": [],
   "metadata": {}
  },
  {
   "cell_type": "code",
   "execution_count": 498,
   "source": [
    "for i in range(len(outcome_distributions)):\n",
    "    print(f'Cluster {i} size: {len(outcome_distributions[i])} ')"
   ],
   "outputs": [
    {
     "output_type": "stream",
     "name": "stdout",
     "text": [
      "Cluster 0 size: 0 \n",
      "Cluster 1 size: 100 \n",
      "Cluster 2 size: 0 \n"
     ]
    }
   ],
   "metadata": {}
  },
  {
   "cell_type": "code",
   "execution_count": 499,
   "source": [
    "# visualize distributions\n",
    "fig, ax = plt.subplots()\n",
    "ax.hist(overall_distribution, label='overall')\n",
    "ax.hist(outcome_distributions, label=cluster_names)\n",
    "ax.legend()\n",
    "ax.set_title(\"Win/Loss Count\")"
   ],
   "outputs": [
    {
     "output_type": "execute_result",
     "data": {
      "text/plain": [
       "Text(0.5, 1.0, 'Win/Loss Count')"
      ]
     },
     "metadata": {},
     "execution_count": 499
    },
    {
     "output_type": "display_data",
     "data": {
      "image/png": "[encoded data removed]",
      "text/plain": [
       "<Figure size 432x288 with 1 Axes>"
      ]
     },
     "metadata": {
      "needs_background": "light"
     }
    }
   ],
   "metadata": {}
  },
  {
   "cell_type": "code",
   "execution_count": 500,
   "source": [
    "# compute score distributions\n",
    "number_frames = 150\n",
    "score_distributions = [[] for i in range(num_clusters)]\n",
    "for i in range(num_replays):\n",
    "    index = str(i)\n",
    "    cumulative_score = raw_data[index][number_frames - 1][2]\n",
    "    score_distributions[cluster_assignments[i]].append(cumulative_score)\n",
    "\n",
    "fig, ax = plt.subplots()\n",
    "ax.hist(np.hstack(np.array(score_distributions)), label='overall')\n",
    "ax.hist(score_distributions, label=cluster_names)\n",
    "ax.legend()\n",
    "ax.set_title(\"Cumulative Score at end of {} frames\".format(number_frames))"
   ],
   "outputs": [
    {
     "output_type": "execute_result",
     "data": {
      "text/plain": [
       "Text(0.5, 1.0, 'Cumulative Score at end of 150 frames')"
      ]
     },
     "metadata": {},
     "execution_count": 500
    },
    {
     "output_type": "display_data",
     "data": {
      "image/png": "[encoded data removed]",
      "text/plain": [
       "<Figure size 432x288 with 1 Axes>"
      ]
     },
     "metadata": {
      "needs_background": "light"
     }
    }
   ],
   "metadata": {}
  },
  {
   "cell_type": "code",
   "execution_count": 501,
   "source": [
    "# make average worker supply and average army supply distributions\n",
    "# army index = 4, worker index = 5\n",
    "\n",
    "worker_distributions = [ [] for i in range(num_clusters)]\n",
    "for i in range(num_replays):\n",
    "    index = str(i)\n",
    "    worker_distributions[cluster_assignments[i]].append(states[str(i)][:, 5].mean())\n",
    "\n",
    "fig, ax = plt.subplots()\n",
    "ax.hist(np.hstack(np.array(worker_distributions)), label='overall')\n",
    "ax.hist(worker_distributions, label=cluster_names)\n",
    "ax.legend()\n",
    "ax.set_title(\"Average  worker supply count per frame\")"
   ],
   "outputs": [
    {
     "output_type": "execute_result",
     "data": {
      "text/plain": [
       "Text(0.5, 1.0, 'Average  worker supply count per frame')"
      ]
     },
     "metadata": {},
     "execution_count": 501
    },
    {
     "output_type": "display_data",
     "data": {
      "image/png": "[encoded data removed]",
      "text/plain": [
       "<Figure size 432x288 with 1 Axes>"
      ]
     },
     "metadata": {
      "needs_background": "light"
     }
    }
   ],
   "metadata": {}
  },
  {
   "cell_type": "code",
   "execution_count": 502,
   "source": [
    "# make average worker supply and average army supply distributions\n",
    "# army index = 4, worker index = 5\n",
    "\n",
    "worker_distributions_new = [ [] for i in range(num_clusters)]\n",
    "for i in range(num_replays):\n",
    "    index = str(i)\n",
    "    worker_distributions_new[cluster_assignments[i]].append(rewards[str(i)][:, 1].mean())\n",
    "\n",
    "fig, ax = plt.subplots()\n",
    "ax.hist(np.hstack(np.array(worker_distributions_new)), label='overall')\n",
    "ax.hist(worker_distributions_new, label=cluster_names)\n",
    "ax.legend()\n",
    "ax.set_title(\"Average standardized worker supply count per frame\")"
   ],
   "outputs": [
    {
     "output_type": "execute_result",
     "data": {
      "text/plain": [
       "Text(0.5, 1.0, 'Average standardized worker supply count per frame')"
      ]
     },
     "metadata": {},
     "execution_count": 502
    },
    {
     "output_type": "display_data",
     "data": {
      "image/png": "[encoded data removed]",
      "text/plain": [
       "<Figure size 432x288 with 1 Axes>"
      ]
     },
     "metadata": {
      "needs_background": "light"
     }
    }
   ],
   "metadata": {}
  },
  {
   "cell_type": "code",
   "execution_count": 503,
   "source": [
    "# make average worker supply and average army supply distributions\n",
    "# army index = 4, worker index = 5\n",
    "\n",
    "army_distributions = [ [] for i in range(num_clusters)]\n",
    "for i in range(num_replays):\n",
    "    index = str(i)\n",
    "    army_distributions[cluster_assignments[i]].append(states[str(i)][:, 4].mean())\n",
    "\n",
    "fig, ax = plt.subplots()\n",
    "ax.hist(np.hstack(np.array(army_distributions)), label='overall')\n",
    "ax.hist(army_distributions, label=cluster_names)\n",
    "ax.legend()\n",
    "ax.set_title(\"Average (normalized) army supply count per frame\")"
   ],
   "outputs": [
    {
     "output_type": "execute_result",
     "data": {
      "text/plain": [
       "Text(0.5, 1.0, 'Average (normalized) army supply count per frame')"
      ]
     },
     "metadata": {},
     "execution_count": 503
    },
    {
     "output_type": "display_data",
     "data": {
      "image/png": "[encoded data removed]",
      "text/plain": [
       "<Figure size 432x288 with 1 Axes>"
      ]
     },
     "metadata": {
      "needs_background": "light"
     }
    }
   ],
   "metadata": {}
  },
  {
   "cell_type": "code",
   "execution_count": 504,
   "source": [
    "clustering_results[0][1]"
   ],
   "outputs": [
    {
     "output_type": "execute_result",
     "data": {
      "text/plain": [
       "array([[5.15978039e-01, 1.11022302e-16, 4.84021961e-01],\n",
       "       [5.43116015e-01, 2.18262984e-01, 2.38621001e-01],\n",
       "       [5.63848363e-01, 3.63120590e-01, 7.30310473e-02]])"
      ]
     },
     "metadata": {},
     "execution_count": 504
    }
   ],
   "metadata": {}
  },
  {
   "cell_type": "code",
   "execution_count": 505,
   "source": [
    "np.mean(army_distributions[0])"
   ],
   "outputs": [
    {
     "output_type": "stream",
     "name": "stderr",
     "text": [
      "/home/daniel/Projects/Python/task1-irl/env/lib/python3.6/site-packages/numpy/core/fromnumeric.py:3335: RuntimeWarning: Mean of empty slice.\n",
      "  out=out, **kwargs)\n",
      "/home/daniel/Projects/Python/task1-irl/env/lib/python3.6/site-packages/numpy/core/_methods.py:161: RuntimeWarning: invalid value encountered in double_scalars\n",
      "  ret = ret.dtype.type(ret / rcount)\n"
     ]
    },
    {
     "output_type": "execute_result",
     "data": {
      "text/plain": [
       "nan"
      ]
     },
     "metadata": {},
     "execution_count": 505
    }
   ],
   "metadata": {}
  },
  {
   "cell_type": "code",
   "execution_count": 506,
   "source": [
    "#np.mean(army_distributions[2])"
   ],
   "outputs": [],
   "metadata": {}
  },
  {
   "cell_type": "code",
   "execution_count": 507,
   "source": [
    "np.mean(worker_distributions[0])"
   ],
   "outputs": [
    {
     "output_type": "execute_result",
     "data": {
      "text/plain": [
       "nan"
      ]
     },
     "metadata": {},
     "execution_count": 507
    }
   ],
   "metadata": {}
  },
  {
   "cell_type": "code",
   "execution_count": 508,
   "source": [
    "np.mean(worker_distributions[1])"
   ],
   "outputs": [
    {
     "output_type": "execute_result",
     "data": {
      "text/plain": [
       "0.09895937741522597"
      ]
     },
     "metadata": {},
     "execution_count": 508
    }
   ],
   "metadata": {}
  },
  {
   "cell_type": "code",
   "execution_count": 509,
   "source": [
    "fig, ax = plt.subplots()\n",
    "colors = ['orange', 'green', 'red', 'purple']\n",
    "for i in range(num_clusters):\n",
    "    ax.scatter(worker_distributions[i],army_distributions[i], c=colors[i])\n",
    "#ax.scatter(np.hstack(np.array(army_distributions)), np.hstack(np.array(worker_distributions)))\n",
    "plt.xlabel(\"Average Worker Supply Count\")\n",
    "plt.ylabel(\"Average Army Supply Count\")\n",
    "plt.show()"
   ],
   "outputs": [
    {
     "output_type": "display_data",
     "data": {
      "image/png": "[encoded data removed]",
      "text/plain": [
       "<Figure size 432x288 with 1 Axes>"
      ]
     },
     "metadata": {
      "needs_background": "light"
     }
    }
   ],
   "metadata": {}
  },
  {
   "cell_type": "code",
   "execution_count": 510,
   "source": [
    "fig = plt.figure()\n",
    "ax = fig.add_subplot(111, projection='3d')\n",
    "# [float(char) for char in score_distributions[i]]\n",
    "for i in range(num_clusters):\n",
    "    ax.scatter(worker_distributions[i], army_distributions[i], [float(char) for char in outcome_distributions[i]] ,c=colors[i])\n",
    "#ax.scatter(np.hstack(np.array(army_distributions)), np.hstack(np.array(worker_distributions)))\n",
    "plt.xlabel(\"Average Worker Supply Count\")\n",
    "plt.ylabel(\"Average Army Supply Count\")\n",
    "plt.show()"
   ],
   "outputs": [
    {
     "output_type": "display_data",
     "data": {
      "image/png": "[encoded data removed]",
      "text/plain": [
       "<Figure size 432x288 with 1 Axes>"
      ]
     },
     "metadata": {
      "needs_background": "light"
     }
    }
   ],
   "metadata": {}
  },
  {
   "cell_type": "code",
   "execution_count": null,
   "source": [],
   "outputs": [],
   "metadata": {}
  }
 ]
}